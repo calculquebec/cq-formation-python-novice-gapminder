{
 "cells": [
  {
   "cell_type": "markdown",
   "metadata": {},
   "source": [
    "# Plotting and Programming in Python\n",
    "## Libraries\n",
    "Questions\n",
    "* How can I use software that other people have written?\n",
    "* How can I find out what that software does?\n",
    "\n",
    "Objectives\n",
    "* Explain what software libraries are and why programmers create and use them.\n",
    "* Write programs that import and use libraries from Python’s standard library.\n",
    "* Find and read documentation for standard libraries interactively (in the interpreter) and online."
   ]
  },
  {
   "cell_type": "markdown",
   "metadata": {},
   "source": [
    "## A library - a collection of files used by other programs\n",
    "* [The Python Standard Library](https://docs.python.org/3/library/) is an extensive suite of modules that comes with Python itself.\n",
    "* Many additional libraries are available from [The Python Package Index (PyPI)](https://pypi.org/).\n",
    "* A *library* is a collection of *modules*, but the terms are often used interchangeably, especially since many libraries only consist of a single module."
   ]
  },
  {
   "cell_type": "markdown",
   "metadata": {},
   "source": [
    "### A program must import a library module before using it\n",
    "* Use `import` to load a library module into a program’s memory.\n",
    "* Then refer to things from the module as `module_name.thing_name`."
   ]
  },
  {
   "cell_type": "code",
   "execution_count": null,
   "metadata": {},
   "outputs": [],
   "source": [
    "import math\n",
    "\n",
    "print('pi is', math.pi)\n",
    "print('cos(pi) is', math.cos(math.pi))"
   ]
  },
  {
   "cell_type": "markdown",
   "metadata": {},
   "source": [
    "### Use `help` to learn about the contents of a library module"
   ]
  },
  {
   "cell_type": "code",
   "execution_count": null,
   "metadata": {},
   "outputs": [],
   "source": [
    "help(math)"
   ]
  },
  {
   "cell_type": "markdown",
   "metadata": {},
   "source": [
    "### Exercise - Exploring the Math Module\n",
    "Improve the code by using a more appropriate function from the `math` module"
   ]
  },
  {
   "cell_type": "code",
   "execution_count": null,
   "metadata": {},
   "outputs": [],
   "source": [
    "x = 2\n",
    "result = math.sqrt(x)  # math.pow(x, 0.5)\n",
    "print(result)"
   ]
  },
  {
   "cell_type": "markdown",
   "metadata": {},
   "source": [
    "### Create an alias for a library module\n",
    "* Use `import ... as ...` to give a library a short *alias* while importing it"
   ]
  },
  {
   "cell_type": "code",
   "execution_count": null,
   "metadata": {},
   "outputs": [],
   "source": [
    "import math as m\n",
    "\n",
    "print('cos(pi) is', m.cos(m.pi))"
   ]
  },
  {
   "cell_type": "markdown",
   "metadata": {},
   "source": [
    "### Import specific items from a library module\n",
    "* Use `from ... import ...` to load only specific items from a library module"
   ]
  },
  {
   "cell_type": "code",
   "execution_count": null,
   "metadata": {},
   "outputs": [],
   "source": [
    "from math import cos, pi\n",
    "\n",
    "print('cos(pi) is', cos(pi))"
   ]
  },
  {
   "cell_type": "markdown",
   "metadata": {},
   "source": [
    "### Exercise - There Are Many Ways To Import Libraries!\n",
    "For each print command below, use one of the following library calls:\n",
    "* `import math`\n",
    "* `import math as m`\n",
    "* `from math import *`\n",
    "* `from math import sin,pi`"
   ]
  },
  {
   "cell_type": "code",
   "execution_count": null,
   "metadata": {},
   "outputs": [],
   "source": [
    "from math import sin,pi\n",
    "print(\"sin(pi/2) =\",sin(pi/2))"
   ]
  },
  {
   "cell_type": "code",
   "execution_count": null,
   "metadata": {},
   "outputs": [],
   "source": [
    "import math as m\n",
    "print(\"sin(pi/2) =\",m.sin(m.pi/2))"
   ]
  },
  {
   "cell_type": "code",
   "execution_count": null,
   "metadata": {},
   "outputs": [],
   "source": [
    "import math\n",
    "print(\"sin(pi/2) =\",math.sin(math.pi/2))"
   ]
  },
  {
   "cell_type": "markdown",
   "metadata": {},
   "source": [
    "For each library call below, fix the print command:"
   ]
  },
  {
   "cell_type": "code",
   "execution_count": null,
   "metadata": {},
   "outputs": [],
   "source": [
    "import math\n",
    "print(math.degrees(math.pi / 2))"
   ]
  },
  {
   "cell_type": "code",
   "execution_count": null,
   "metadata": {},
   "outputs": [],
   "source": [
    "import math as m\n",
    "print(m.degrees(m.pi / 2))"
   ]
  },
  {
   "cell_type": "code",
   "execution_count": null,
   "metadata": {},
   "outputs": [],
   "source": [
    "from math import degrees, pi\n",
    "print(degrees(pi / 2))"
   ]
  },
  {
   "cell_type": "markdown",
   "metadata": {},
   "source": [
    "### Exercise - Locating the Right Module\n",
    "You want to select a random character from a string:"
   ]
  },
  {
   "cell_type": "code",
   "execution_count": null,
   "metadata": {},
   "outputs": [],
   "source": [
    "bases = 'ACTTGCTTGAC'"
   ]
  },
  {
   "cell_type": "markdown",
   "metadata": {},
   "source": [
    "* Which [standard library](https://docs.python.org/3/library/) module could help you?\n",
    "* Which function would you select from that module? Are there alternatives?\n",
    "* Try to write a program that uses the function."
   ]
  },
  {
   "cell_type": "code",
   "execution_count": null,
   "metadata": {},
   "outputs": [],
   "source": [
    "from random import randrange\n",
    "\n",
    "random_index = randrange(len(bases))  # Or random.randint()\n",
    "print(\"(Index, Random base):\", random_index, bases[random_index])"
   ]
  },
  {
   "cell_type": "code",
   "execution_count": null,
   "metadata": {},
   "outputs": [],
   "source": []
  }
 ],
 "metadata": {
  "anaconda-cloud": {},
  "kernelspec": {
   "display_name": "Python 3",
   "language": "python",
   "name": "python3"
  },
  "language_info": {
   "codemirror_mode": {
    "name": "ipython",
    "version": 3
   },
   "file_extension": ".py",
   "mimetype": "text/x-python",
   "name": "python",
   "nbconvert_exporter": "python",
   "pygments_lexer": "ipython3",
   "version": "3.6.5"
  }
 },
 "nbformat": 4,
 "nbformat_minor": 1
}
