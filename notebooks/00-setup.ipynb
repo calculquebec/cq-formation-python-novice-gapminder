{
 "cells": [
  {
   "cell_type": "markdown",
   "metadata": {},
   "source": [
    "# Plotting and Programming in Python\n",
    "## Lesson Setup\n",
    "1. Download and extract the material from GitHub: https://github.com/calculquebec/cq-formation-python-novice-gapminder/archive/cq-notebooks.zip\n",
    "```\n",
    "wget https://github.com/calculquebec/cq-formation-python-novice-gapminder/archive/cq-notebooks.zip\n",
    "unzip cq-notebooks.zip\n",
    "```\n",
    "1. Go to folder: **cq-formation-python-novice-gapminder-cq-notebooks**\n",
    "```\n",
    "cd cq-formation-python-novice-gapminder-cq-notebooks\n",
    "```\n",
    "1. Start the Jupyter Notebook\n",
    "```\n",
    "jupyter notebook\n",
    "```\n",
    "1. Once your web browser is showing the Jupyter portal, click on folder \"`notebooks`\",\n",
    "   then click on file \"`01-run-quit.ipynb`\""
   ]
  },
  {
   "cell_type": "code",
   "execution_count": null,
   "metadata": {
    "collapsed": true
   },
   "outputs": [],
   "source": []
  }
 ],
 "metadata": {
  "anaconda-cloud": {},
  "kernelspec": {
   "display_name": "Python 3",
   "language": "python",
   "name": "python3"
  },
  "language_info": {
   "codemirror_mode": {
    "name": "ipython",
    "version": 3
   },
   "file_extension": ".py",
   "mimetype": "text/x-python",
   "name": "python",
   "nbconvert_exporter": "python",
   "pygments_lexer": "ipython3",
   "version": "3.6.5"
  }
 },
 "nbformat": 4,
 "nbformat_minor": 1
}
