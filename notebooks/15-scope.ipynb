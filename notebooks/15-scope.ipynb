{
 "cells": [
  {
   "cell_type": "markdown",
   "metadata": {},
   "source": [
    "# Plotting and Programming in Python\n",
    "## Writing Functions\n",
    "Questions\n",
    "* How do function calls actually work?\n",
    "* How can I determine where errors occurred?\n",
    "\n",
    "Objectives\n",
    "* Identify local and global variables.\n",
    "* Identify parameters as local variables.\n",
    "* Read a traceback and determine the file, function, and line number on which the error occurred, the type of error, and the error message."
   ]
  },
  {
   "cell_type": "markdown",
   "metadata": {},
   "source": [
    "## The scope of a variable is the part of a program that can ‘see’ that variable."
   ]
  },
  {
   "cell_type": "code",
   "execution_count": null,
   "metadata": {},
   "outputs": [],
   "source": [
    "pressure = 103.9\n",
    "\n",
    "def adjust(t):\n",
    "    ### = ### * 1.43 / ###\n",
    "    return temperature"
   ]
  },
  {
   "cell_type": "code",
   "execution_count": null,
   "metadata": {
    "scrolled": true
   },
   "outputs": [],
   "source": [
    "print('adjusted:', ###)\n",
    "print('temperature after call:', ###)"
   ]
  },
  {
   "cell_type": "markdown",
   "metadata": {},
   "source": [
    "### Exercise - Local and Global Variable Use\n",
    "Trace the values of all variables in this program as it is executed. (Use ‘—’ as the value of variables before and after they exist.)"
   ]
  },
  {
   "cell_type": "code",
   "execution_count": null,
   "metadata": {},
   "outputs": [],
   "source": [
    "limit = 100\n",
    "\n",
    "def clip(value):\n",
    "    return min(max(0.0, value), limit)\n",
    "\n",
    "value = -22.5\n",
    "print(clip(value))"
   ]
  },
  {
   "cell_type": "markdown",
   "metadata": {},
   "source": [
    "|      Code         | `limit` | `value` | `result` |\n",
    "| ----------------- |:-------:|:-------:|:--------:|\n",
    "| `limit = 100`     |     ### |     ### |      ### |\n",
    "| `value = -22.5`   |       \" |     ### |        \" |\n",
    "| `def clip(value)` |       \" |       \" |        \" |\n",
    "| `max(0.0, value)` |       \" |       \" |      ### |\n",
    "| `min(res, limit)` |       \" |       \" |      ### |"
   ]
  },
  {
   "cell_type": "markdown",
   "metadata": {},
   "source": [
    "### Exercise - Lexical Scoping in Python\n",
    "What is the output of this Python code?\n",
    "* None ?\n",
    "* 2 ?\n",
    "* 4 ?\n",
    "* 7 ?\n",
    "* 9 ?\n",
    "* 12 ?\n",
    "* 14 ?\n",
    "* 19 ?\n",
    "* 21 ?"
   ]
  },
  {
   "cell_type": "markdown",
   "metadata": {},
   "source": [
    "```\n",
    "z = 17\n",
    "def foo(x):\n",
    "    def bar(y):\n",
    "        return y + z\n",
    "\n",
    "    z = 5\n",
    "    return x + bar(x)\n",
    "\n",
    "z = 10\n",
    "foo(2)\n",
    "```"
   ]
  },
  {
   "cell_type": "markdown",
   "metadata": {},
   "source": [
    "### Exercise - Reading Error Messages\n",
    "Read the traceback below, and identify the following:\n",
    "1. How many levels does the traceback have?\n",
    "1. What is the file name where the error occurred?\n",
    "1. What is the function name where the error occurred?\n",
    "1. On which line number in this function did the error occurr?\n",
    "1. What is the type of error?\n",
    "1. What is the error message?"
   ]
  },
  {
   "cell_type": "markdown",
   "metadata": {
    "scrolled": true
   },
   "source": [
    "```\n",
    "---------------------------------------------------------------------------\n",
    "KeyError                                  Traceback (most recent call last)\n",
    "<ipython-input-2-e4c4cbafeeb5> in <module>()\n",
    "      1 import errors_02\n",
    "----> 2 errors_02.print_friday_message()\n",
    "\n",
    "/Users/ghopper/thesis/code/errors_02.py in print_friday_message()\n",
    "     13\n",
    "     14 def print_friday_message():\n",
    "---> 15     print_message(\"Friday\")\n",
    "\n",
    "/Users/ghopper/thesis/code/errors_02.py in print_message(day)\n",
    "      9         \"sunday\": \"Aw, the weekend is almost over.\"\n",
    "     10     }\n",
    "---> 11     print(messages[day])\n",
    "     12\n",
    "     13\n",
    "\n",
    "KeyError: 'Friday'\n",
    "```"
   ]
  },
  {
   "cell_type": "code",
   "execution_count": null,
   "metadata": {},
   "outputs": [],
   "source": []
  }
 ],
 "metadata": {
  "anaconda-cloud": {},
  "kernelspec": {
   "display_name": "Python 3",
   "language": "python",
   "name": "python3"
  },
  "language_info": {
   "codemirror_mode": {
    "name": "ipython",
    "version": 3
   },
   "file_extension": ".py",
   "mimetype": "text/x-python",
   "name": "python",
   "nbconvert_exporter": "python",
   "pygments_lexer": "ipython3",
   "version": "3.6.5"
  }
 },
 "nbformat": 4,
 "nbformat_minor": 1
}
