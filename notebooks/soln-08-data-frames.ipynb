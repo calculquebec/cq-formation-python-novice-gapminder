{
 "cells": [
  {
   "cell_type": "markdown",
   "metadata": {},
   "source": [
    "# Plotting and Programming in Python\n",
    "## Pandas DataFrames\n",
    "Questions\n",
    "* How can I do statistical analysis of tabular data?\n",
    "\n",
    "Objectives\n",
    "* Select individual values from a Pandas dataframe.\n",
    "* Select entire rows or entire columns from a dataframe.\n",
    "* Select a subset of both rows and columns from a dataframe in a single operation.\n",
    "* Select a subset of a dataframe by a single Boolean criterion."
   ]
  },
  {
   "cell_type": "markdown",
   "metadata": {},
   "source": [
    "## Note about Pandas DataFrames/Series\n",
    "* A DataFrame is a collection of Series; and Series is the data-structure Pandas use to represent a column.\n",
    "* Pandas is built on top of the Numpy library\n",
    "* Can do relational-databases operations between DataFrames"
   ]
  },
  {
   "cell_type": "code",
   "execution_count": null,
   "metadata": {},
   "outputs": [],
   "source": [
    "import pandas\n",
    "data = pandas.read_csv('../data/gapminder_gdp_europe.csv', index_col='country')\n",
    "data"
   ]
  },
  {
   "cell_type": "markdown",
   "metadata": {},
   "source": [
    "## Selecting values\n",
    "### Use `DataFrame.iloc[..., ...]` to select values by their (entry) position"
   ]
  },
  {
   "cell_type": "code",
   "execution_count": null,
   "metadata": {},
   "outputs": [],
   "source": [
    "print(data.iloc[0, 0])"
   ]
  },
  {
   "cell_type": "markdown",
   "metadata": {},
   "source": [
    "### Use `DataFrame.loc[..., ...]` to select values by their (entry) label"
   ]
  },
  {
   "cell_type": "code",
   "execution_count": null,
   "metadata": {},
   "outputs": [],
   "source": [
    "print(data.loc[\"Albania\", \"gdpPercap_1952\"])"
   ]
  },
  {
   "cell_type": "markdown",
   "metadata": {},
   "source": [
    "### Use `:` on its own to mean all columns or all rows"
   ]
  },
  {
   "cell_type": "code",
   "execution_count": null,
   "metadata": {
    "scrolled": false
   },
   "outputs": [],
   "source": [
    "print(data.loc[\"Albania\", :])"
   ]
  },
  {
   "cell_type": "code",
   "execution_count": null,
   "metadata": {
    "scrolled": true
   },
   "outputs": [],
   "source": [
    "print(data.loc[\"Albania\"])"
   ]
  },
  {
   "cell_type": "code",
   "execution_count": null,
   "metadata": {
    "scrolled": true
   },
   "outputs": [],
   "source": [
    "print(data.loc[:, \"gdpPercap_1952\"])"
   ]
  },
  {
   "cell_type": "code",
   "execution_count": null,
   "metadata": {},
   "outputs": [],
   "source": [
    "print(data[\"gdpPercap_1952\"])"
   ]
  },
  {
   "cell_type": "code",
   "execution_count": null,
   "metadata": {
    "scrolled": true
   },
   "outputs": [],
   "source": [
    "print(data.gdpPercap_1952)"
   ]
  },
  {
   "cell_type": "markdown",
   "metadata": {},
   "source": [
    "### Exercise - Selection of Individual Values\n",
    "Write an expression to find the Per Capita GDP of Serbia in 2007."
   ]
  },
  {
   "cell_type": "code",
   "execution_count": null,
   "metadata": {},
   "outputs": [],
   "source": [
    "print(data.loc['Serbia', 'gdpPercap_2007'])"
   ]
  },
  {
   "cell_type": "markdown",
   "metadata": {},
   "source": [
    "## Select multiple columns or rows using `DataFrame.loc` and a named slice"
   ]
  },
  {
   "cell_type": "code",
   "execution_count": null,
   "metadata": {
    "scrolled": false
   },
   "outputs": [],
   "source": [
    "print(data.loc['Italy':'Poland', 'gdpPercap_1962':'gdpPercap_1972'])"
   ]
  },
  {
   "cell_type": "markdown",
   "metadata": {},
   "source": [
    "### Exercise - Extent of Slicing\n",
    "Get the same output as above, but with `iloc`."
   ]
  },
  {
   "cell_type": "code",
   "execution_count": null,
   "metadata": {
    "scrolled": true
   },
   "outputs": [],
   "source": [
    "print(data.iloc[15:20, 2:5])"
   ]
  },
  {
   "cell_type": "markdown",
   "metadata": {},
   "source": [
    "Write an expression to select each of the following:\n",
    "\n",
    "1. GDP per capita for all countries in 1982.\n",
    "1. GDP per capita for Denmark for all years.\n",
    "1. GDP per capita for all countries for years after 1985.\n",
    "1. GDP per capita for each country in 2007 as a multiple of GDP per capita for that country in 1952."
   ]
  },
  {
   "cell_type": "code",
   "execution_count": null,
   "metadata": {},
   "outputs": [],
   "source": [
    "data['gdpPercap_1982']"
   ]
  },
  {
   "cell_type": "code",
   "execution_count": null,
   "metadata": {},
   "outputs": [],
   "source": [
    "data.loc['Denmark',:]"
   ]
  },
  {
   "cell_type": "code",
   "execution_count": null,
   "metadata": {},
   "outputs": [],
   "source": [
    "data.loc[:,'gdpPercap_1985':]"
   ]
  },
  {
   "cell_type": "code",
   "execution_count": null,
   "metadata": {},
   "outputs": [],
   "source": [
    "data['gdpPercap_2007']/data['gdpPercap_1952']"
   ]
  },
  {
   "cell_type": "markdown",
   "metadata": {},
   "source": [
    "### Result of slicing can be used in further operations"
   ]
  },
  {
   "cell_type": "code",
   "execution_count": null,
   "metadata": {},
   "outputs": [],
   "source": [
    "print(data.loc['Italy':'Poland', 'gdpPercap_1962':'gdpPercap_1972'].max())"
   ]
  },
  {
   "cell_type": "code",
   "execution_count": null,
   "metadata": {
    "scrolled": true
   },
   "outputs": [],
   "source": [
    "print(data.loc['Italy':'Poland', 'gdpPercap_1962':'gdpPercap_1972'].min())"
   ]
  },
  {
   "cell_type": "markdown",
   "metadata": {},
   "source": [
    "### Exercise - Selecting Indices\n",
    "Explain in simple terms what `idxmin` and `idxmax` do in the short program below. When would you use these methods?"
   ]
  },
  {
   "cell_type": "code",
   "execution_count": null,
   "metadata": {},
   "outputs": [],
   "source": [
    "print(data.idxmax())\n",
    "print(data.idxmin())"
   ]
  },
  {
   "cell_type": "markdown",
   "metadata": {},
   "source": [
    "## Use comparisons to select data based on value"
   ]
  },
  {
   "cell_type": "code",
   "execution_count": null,
   "metadata": {},
   "outputs": [],
   "source": [
    "# Use a subset of data to keep output readable.\n",
    "subset = data.loc['Italy':'Poland', 'gdpPercap_1962':'gdpPercap_1972']\n",
    "print('Subset of data:\\n', subset)\n",
    "\n",
    "# Which values were greater than 10000 ?\n",
    "print('\\nWhere are values large?\\n', subset > 10000)"
   ]
  },
  {
   "cell_type": "markdown",
   "metadata": {},
   "source": [
    "### Select values or NaN using a Boolean mask"
   ]
  },
  {
   "cell_type": "code",
   "execution_count": null,
   "metadata": {},
   "outputs": [],
   "source": [
    "mask = subset > 10000\n",
    "print(subset[mask])"
   ]
  },
  {
   "cell_type": "code",
   "execution_count": null,
   "metadata": {
    "scrolled": true
   },
   "outputs": [],
   "source": [
    "print(subset[subset > 10000].describe())"
   ]
  },
  {
   "cell_type": "markdown",
   "metadata": {},
   "source": [
    "### Exercise - Reconstructing Data\n",
    "Explain the following lines"
   ]
  },
  {
   "cell_type": "code",
   "execution_count": null,
   "metadata": {},
   "outputs": [],
   "source": [
    "first = pandas.read_csv('../data/gapminder_all.csv', index_col='country')\n",
    "second = first[first['continent'] == 'Americas']\n",
    "print(second)"
   ]
  },
  {
   "cell_type": "markdown",
   "metadata": {},
   "source": [
    "### Select-Apply-Combine operations\n",
    "1. We may have a glance by splitting the countries in two groups during the years surveyed, those who presented a GDP higher than the European average and those with a lower GDP.\n",
    "1. We then estimate a `wealth_score` based on the historical (from 1962 to 2007) values, where we account how many times a country has participated in the groups of lower or higher GDP."
   ]
  },
  {
   "cell_type": "code",
   "execution_count": null,
   "metadata": {},
   "outputs": [],
   "source": [
    "mask_higher = data.apply(lambda x:x>x.mean())\n",
    "wealth_score = mask_higher.aggregate('sum',axis=1)/len(data.columns)\n",
    "wealth_score"
   ]
  },
  {
   "cell_type": "markdown",
   "metadata": {},
   "source": [
    "Finally, for each group in the `wealth_score` table, we sum their (financial) contribution across the years surveyed:"
   ]
  },
  {
   "cell_type": "code",
   "execution_count": null,
   "metadata": {},
   "outputs": [],
   "source": [
    "data.groupby(wealth_score).sum()"
   ]
  },
  {
   "cell_type": "markdown",
   "metadata": {},
   "source": [
    "### Exercise - Reconstructing Data\n",
    "Explain the following lines"
   ]
  },
  {
   "cell_type": "code",
   "execution_count": null,
   "metadata": {},
   "outputs": [],
   "source": [
    "third = second.drop('Puerto Rico')\n",
    "fourth = third.drop('continent', axis = 1)\n",
    "print(fourth)\n",
    "fourth.to_csv('result.csv')"
   ]
  },
  {
   "cell_type": "code",
   "execution_count": null,
   "metadata": {},
   "outputs": [],
   "source": []
  }
 ],
 "metadata": {
  "anaconda-cloud": {},
  "kernelspec": {
   "display_name": "Python 3",
   "language": "python",
   "name": "python3"
  },
  "language_info": {
   "codemirror_mode": {
    "name": "ipython",
    "version": 3
   },
   "file_extension": ".py",
   "mimetype": "text/x-python",
   "name": "python",
   "nbconvert_exporter": "python",
   "pygments_lexer": "ipython3",
   "version": "3.6.5"
  }
 },
 "nbformat": 4,
 "nbformat_minor": 1
}
