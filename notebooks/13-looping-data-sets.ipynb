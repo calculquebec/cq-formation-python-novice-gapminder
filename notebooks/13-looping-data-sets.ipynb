{
 "cells": [
  {
   "cell_type": "markdown",
   "metadata": {},
   "source": [
    "# Plotting and Programming in Python\n",
    "## Looping Over Data Sets\n",
    "Questions\n",
    "* How can I process many data sets with a single command?\n",
    "\n",
    "Objectives\n",
    "* Be able to read and write globbing expressions that match sets of files.\n",
    "* Use glob to create lists of files.\n",
    "* Write for loops to perform operations on files given their names in a list."
   ]
  },
  {
   "cell_type": "markdown",
   "metadata": {},
   "source": [
    "## Use a `for` loop to process files given a list of their names"
   ]
  },
  {
   "cell_type": "code",
   "execution_count": null,
   "metadata": {},
   "outputs": [],
   "source": [
    "import pandas"
   ]
  },
  {
   "cell_type": "code",
   "execution_count": null,
   "metadata": {},
   "outputs": [],
   "source": [
    "### ['../data/gapminder_gdp_###.csv', '../data/gapminder_gdp_###.csv']###\n",
    "    data = pandas.read_csv(###, index_col='country')\n",
    "    print(filename, ###)"
   ]
  },
  {
   "cell_type": "markdown",
   "metadata": {},
   "source": [
    "### Use `glob.glob` to find sets of files whose names match a pattern\n",
    "* In Unix, the term \"globbing\" means \"matching a set of files with a pattern\".\n",
    "* The most common patterns are:\n",
    " * `*` meaning \"match zero or more characters\"\n",
    " * `?` meaning \"match exactly one character\""
   ]
  },
  {
   "cell_type": "code",
   "execution_count": null,
   "metadata": {
    "scrolled": true
   },
   "outputs": [],
   "source": [
    "###"
   ]
  },
  {
   "cell_type": "code",
   "execution_count": null,
   "metadata": {},
   "outputs": [],
   "source": [
    "print('all csv files in data directory:', ###('###'))"
   ]
  },
  {
   "cell_type": "code",
   "execution_count": null,
   "metadata": {},
   "outputs": [],
   "source": [
    "print('all PDB files:', ###('###'))"
   ]
  },
  {
   "cell_type": "markdown",
   "metadata": {},
   "source": [
    "### Use `glob` and `for` to process batches of files"
   ]
  },
  {
   "cell_type": "code",
   "execution_count": null,
   "metadata": {},
   "outputs": [],
   "source": [
    "for filename in ###('../data/gapminder_###.csv'):\n",
    "    data = pandas.read_csv(###)\n",
    "    print(filename, data['gdpPercap_1952'].###)"
   ]
  },
  {
   "cell_type": "markdown",
   "metadata": {},
   "source": [
    "### Exercise - Minimum File Size\n",
    "Modify this program so that it prints the number of records in the file that has the fewest records."
   ]
  },
  {
   "cell_type": "code",
   "execution_count": null,
   "metadata": {
    "scrolled": true
   },
   "outputs": [],
   "source": [
    "fewest = -1 * float('Inf')\n",
    "for filename in glob.glob('../data/###'):\n",
    "    dataframe = pandas.###(filename)\n",
    "    fewest = min(###, dataframe.shape[0])\n",
    "print('smallest file has', fewest, 'records')"
   ]
  },
  {
   "cell_type": "markdown",
   "metadata": {},
   "source": [
    "### Exercise - Comparing Data\n",
    "Write a program that reads in the regional data sets and plots the average GapMinder GDP per capita for each region over time in a single chart."
   ]
  },
  {
   "cell_type": "code",
   "execution_count": null,
   "metadata": {
    "scrolled": true
   },
   "outputs": [],
   "source": [
    "import matplotlib.pyplot as plt"
   ]
  },
  {
   "cell_type": "code",
   "execution_count": null,
   "metadata": {},
   "outputs": [],
   "source": [
    "fig, ax = plt.subplots(1,1)\n",
    "for filename in glob.glob('../data/###'):\n",
    "    dataframe = pandas.read_csv(filename, index_col='country')\n",
    "    # extract region from the filename, expected to be in the format '../data/gapminder_gdp_<region>.csv'\n",
    "    region = filename.split('_')[###][###] \n",
    "    dataframe.###().plot(label=###)\n",
    "plt.legend()\n",
    "plt.show()"
   ]
  },
  {
   "cell_type": "code",
   "execution_count": null,
   "metadata": {},
   "outputs": [],
   "source": []
  }
 ],
 "metadata": {
  "anaconda-cloud": {},
  "kernelspec": {
   "display_name": "Python 3",
   "language": "python",
   "name": "python3"
  },
  "language_info": {
   "codemirror_mode": {
    "name": "ipython",
    "version": 3
   },
   "file_extension": ".py",
   "mimetype": "text/x-python",
   "name": "python",
   "nbconvert_exporter": "python",
   "pygments_lexer": "ipython3",
   "version": "3.6.5"
  }
 },
 "nbformat": 4,
 "nbformat_minor": 1
}
