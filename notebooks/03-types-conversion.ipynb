{
 "cells": [
  {
   "cell_type": "markdown",
   "metadata": {},
   "source": [
    "# Plotting and Programming in Python\n",
    "## Data Types and Type Conversion\n",
    "Questions\n",
    "* What kinds of data do programs store?\n",
    "* How can I convert one type to another?\n",
    "\n",
    "Objectives\n",
    "* Explain key differences between integers and floating point numbers.\n",
    "* Explain key differences between numbers and character strings.\n",
    "* Use built-in functions to convert between integers, floating point numbers, and strings."
   ]
  },
  {
   "cell_type": "markdown",
   "metadata": {},
   "source": [
    "## Every value has a type\n",
    "### Use the built-in function `type` to find the type of a value"
   ]
  },
  {
   "cell_type": "code",
   "execution_count": null,
   "metadata": {},
   "outputs": [],
   "source": [
    "print(###)"
   ]
  },
  {
   "cell_type": "code",
   "execution_count": null,
   "metadata": {},
   "outputs": [],
   "source": [
    "fitness = 'average'\n",
    "print(###(fitness))"
   ]
  },
  {
   "cell_type": "markdown",
   "metadata": {},
   "source": [
    "### Exercise - Fractions\n",
    "What type of value is 3.4? How can you find out?"
   ]
  },
  {
   "cell_type": "code",
   "execution_count": null,
   "metadata": {
    "scrolled": true
   },
   "outputs": [],
   "source": [
    "print(###)"
   ]
  },
  {
   "cell_type": "markdown",
   "metadata": {},
   "source": [
    "## Types control what operations (or methods) can be performed on a given value"
   ]
  },
  {
   "cell_type": "code",
   "execution_count": null,
   "metadata": {},
   "outputs": [],
   "source": [
    "print(###)"
   ]
  },
  {
   "cell_type": "code",
   "execution_count": null,
   "metadata": {},
   "outputs": [],
   "source": [
    "print('hello'###)"
   ]
  },
  {
   "cell_type": "markdown",
   "metadata": {},
   "source": [
    "### You can use the “+” and “*” operators on strings"
   ]
  },
  {
   "cell_type": "code",
   "execution_count": null,
   "metadata": {},
   "outputs": [],
   "source": [
    "full_name = 'Ahmed' ### ' ' ### 'Walsh'\n",
    "print(full_name)"
   ]
  },
  {
   "cell_type": "code",
   "execution_count": null,
   "metadata": {},
   "outputs": [],
   "source": [
    "separator = ###\n",
    "print(separator)"
   ]
  },
  {
   "cell_type": "markdown",
   "metadata": {},
   "source": [
    "### Strings have a length (but numbers don’t)"
   ]
  },
  {
   "cell_type": "code",
   "execution_count": null,
   "metadata": {},
   "outputs": [],
   "source": [
    "print(###(full_name))"
   ]
  },
  {
   "cell_type": "code",
   "execution_count": null,
   "metadata": {},
   "outputs": [],
   "source": [
    "print(###)"
   ]
  },
  {
   "cell_type": "markdown",
   "metadata": {},
   "source": [
    "## Type conversion\n",
    "### Must convert numbers to strings or vice versa when operating on them"
   ]
  },
  {
   "cell_type": "code",
   "execution_count": null,
   "metadata": {},
   "outputs": [],
   "source": [
    "print(1 + ###)"
   ]
  },
  {
   "cell_type": "code",
   "execution_count": null,
   "metadata": {},
   "outputs": [],
   "source": [
    "print(1 + ###'2')\n",
    "print(###1 + '2')"
   ]
  },
  {
   "cell_type": "code",
   "execution_count": null,
   "metadata": {
    "scrolled": true
   },
   "outputs": [],
   "source": [
    "print(\"Fractional string to int:\", ###(\"3.4\"))"
   ]
  },
  {
   "cell_type": "code",
   "execution_count": null,
   "metadata": {},
   "outputs": [],
   "source": [
    "print(\"string to float:\", ###(\"3.4\"))\n",
    "print(\"float to int:\", ###(3.4))"
   ]
  },
  {
   "cell_type": "code",
   "execution_count": null,
   "metadata": {
    "scrolled": true
   },
   "outputs": [],
   "source": [
    "###(###(\"3.4\"))"
   ]
  },
  {
   "cell_type": "markdown",
   "metadata": {},
   "source": [
    "### Exercise - Arithmetic with Different Types\n",
    "Which of the following will print 2.0? Note: there may be more than one right answer.\n",
    "\n",
    "```\n",
    "first = 1.0\n",
    "second = \"1\"\n",
    "third = \"1.1\"\n",
    "```\n",
    "\n",
    "1. `first + float(second)`\n",
    "1. `float(second) + float(third)`\n",
    "1. `first + int(third)`\n",
    "1. `first + int(float(third))`\n",
    "1. `int(first) + int(float(third))`\n",
    "1. `2.0 * second`"
   ]
  },
  {
   "cell_type": "markdown",
   "metadata": {},
   "source": [
    "### Can mix integers and floats freely in operations"
   ]
  },
  {
   "cell_type": "code",
   "execution_count": null,
   "metadata": {
    "scrolled": true
   },
   "outputs": [],
   "source": [
    "print('half is', 1 / ###)\n",
    "print('three squared is', 3.0 ###)"
   ]
  },
  {
   "cell_type": "markdown",
   "metadata": {},
   "source": [
    "### Exercise - Automatic Type Conversion\n",
    "What type of value is 3.25 + 4?"
   ]
  },
  {
   "cell_type": "code",
   "execution_count": null,
   "metadata": {},
   "outputs": [],
   "source": [
    "result = 3.25 + 4\n",
    "print(result, 'is', ###)"
   ]
  },
  {
   "cell_type": "markdown",
   "metadata": {},
   "source": [
    "### Division Types"
   ]
  },
  {
   "cell_type": "code",
   "execution_count": null,
   "metadata": {},
   "outputs": [],
   "source": [
    "print('5 // 3 =', 5 ### 3)              # Portable code for integer division\n",
    "print('5 / 3 =', 5 / 3)                # Gives 1 in Python 2\n",
    "print('float(5) / 3 =', ###5 / 3)  # Portable code for float division\n",
    "print('5 % 3 =', 5 ### 3)                # Gives 2 in Python 2"
   ]
  },
  {
   "cell_type": "markdown",
   "metadata": {},
   "source": [
    "### Exercise - Roller Coaster\n",
    "24 adults can fit in a roller coaster train. If there are 127 eligible passengers waiting in line, how many runs will be done for all these people?"
   ]
  },
  {
   "cell_type": "code",
   "execution_count": null,
   "metadata": {},
   "outputs": [],
   "source": [
    "num_passengers = 127\n",
    "adults_per_train = 24\n",
    "num_runs = (num_passengers + (###)) ### adults_per_train\n",
    "\n",
    "print(num_passengers, 'passengers,', adults_per_train, 'per run,', num_runs, 'runs')"
   ]
  },
  {
   "cell_type": "code",
   "execution_count": null,
   "metadata": {},
   "outputs": [],
   "source": []
  }
 ],
 "metadata": {
  "anaconda-cloud": {},
  "kernelspec": {
   "display_name": "Python 3",
   "language": "python",
   "name": "python3"
  },
  "language_info": {
   "codemirror_mode": {
    "name": "ipython",
    "version": 3
   },
   "file_extension": ".py",
   "mimetype": "text/x-python",
   "name": "python",
   "nbconvert_exporter": "python",
   "pygments_lexer": "ipython3",
   "version": "3.6.5"
  }
 },
 "nbformat": 4,
 "nbformat_minor": 1
}
