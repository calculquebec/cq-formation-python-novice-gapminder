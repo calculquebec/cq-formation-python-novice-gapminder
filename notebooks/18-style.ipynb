{
 "cells": [
  {
   "cell_type": "markdown",
   "metadata": {},
   "source": [
    "# Plotting and Programming in Python\n",
    "## Programming Style\n",
    "Questions\n",
    "* How can I make my programs more readable?\n",
    "* How do most programmers format their code?\n",
    "* How can programs check their own operation?\n",
    "\n",
    "Objectives\n",
    "* Provide sound justifications for basic rules of coding style.\n",
    "* Refactor one-page programs to make them more readable and justify the changes.\n",
    "* Use Python community coding standards (PEP-8)."
   ]
  },
  {
   "cell_type": "markdown",
   "metadata": {},
   "source": [
    "## Coding style\n",
    "* The importance of readability in the [Zen of Python](https://www.python.org/dev/peps/pep-0020/).\n",
    "* Python Enhancement Proposals (PEP), [PEP 8](https://www.python.org/dev/peps/pep-0008/).\n",
    " * The [PEP8 application and Python library](https://pypi.org/project/pep8/) can check your code for compliance with PEP8.\n",
    "* [Google style guide on Python](https://github.com/google/styleguide/blob/gh-pages/pyguide.md) supports the use of PEP8 and extend the coding style to more specific structure of a Python code"
   ]
  },
  {
   "cell_type": "markdown",
   "metadata": {},
   "source": [
    "## Use docstrings to provide online help"
   ]
  },
  {
   "cell_type": "code",
   "execution_count": null,
   "metadata": {
    "scrolled": false
   },
   "outputs": [],
   "source": [
    "def average(values):\n",
    "    ### ### average of values, or ### if no values are supplied.###\n",
    "\n",
    "    if len(values) == 0:\n",
    "        return None\n",
    "    return sum(values) / average(values)\n",
    "\n",
    "help(average)"
   ]
  },
  {
   "cell_type": "markdown",
   "metadata": {},
   "source": [
    "* Multiline Strings"
   ]
  },
  {
   "cell_type": "code",
   "execution_count": null,
   "metadata": {
    "scrolled": true
   },
   "outputs": [],
   "source": [
    "def foo(arg1):\n",
    "    ###This string spans\n",
    "    multiple lines.\n",
    "\n",
    "    Blank lines are allowed.###\n",
    "    return arg1\n",
    "\n",
    "help(foo)"
   ]
  },
  {
   "cell_type": "markdown",
   "metadata": {},
   "source": [
    "### Exercise - What Will Be Shown?\n",
    "* Highlight the lines in the code below that will be available as online help.\n",
    "* Are there lines that should be made available, but won’t be?\n",
    "* Will any lines produce a syntax error or a runtime error?"
   ]
  },
  {
   "cell_type": "markdown",
   "metadata": {},
   "source": [
    "```\n",
    "\"Find maximum edit distance between multiple sequences.\"\n",
    "# This finds the maximum distance between all sequences.\n",
    "\n",
    "def overall_max(sequences):\n",
    "    '''Determine overall maximum edit distance.'''\n",
    "\n",
    "    highest = 0\n",
    "    for left in sequences:\n",
    "        for right in sequences:\n",
    "            '''Avoid checking sequence against itself.'''\n",
    "            if left != right:\n",
    "                this = edit_distance(left, right)\n",
    "                highest = max(highest, this)\n",
    "\n",
    "    # Report.\n",
    "    return highest\n",
    "```"
   ]
  },
  {
   "cell_type": "markdown",
   "metadata": {},
   "source": [
    "### Exercise - Document This\n",
    "Turn the comment on the following function into a docstring and check that `help` displays it properly."
   ]
  },
  {
   "cell_type": "code",
   "execution_count": null,
   "metadata": {},
   "outputs": [],
   "source": [
    "def middle(a, b, c):\n",
    "    # Return the middle value of three.\n",
    "    # Assumes the values can actually be compared.\n",
    "    values = [a, b, c]\n",
    "    values.sort()\n",
    "    return values[1]"
   ]
  },
  {
   "cell_type": "markdown",
   "metadata": {},
   "source": [
    "## Use assertions to check for internal errors"
   ]
  },
  {
   "cell_type": "code",
   "execution_count": null,
   "metadata": {},
   "outputs": [],
   "source": [
    "def calc_bulk_density(mass, volume):\n",
    "    '''Return dry bulk density = powder mass / powder volume.'''\n",
    "    \n",
    "    # Pre-conditions\n",
    "    ### The mass must be greater than 0\n",
    "    ### volume > 0, \"The volume must be greater than 0\"\n",
    "    \n",
    "    bulk_density = mass / volume\n",
    "    \n",
    "    # Post-conditions\n",
    "    ### bulk_density >= 1, \"The density (={}) should be greater than 1\".###(bulk_density)\n",
    "    \n",
    "    ### bulk_density"
   ]
  },
  {
   "cell_type": "markdown",
   "metadata": {},
   "source": [
    "* Unit-tests for your assertions"
   ]
  },
  {
   "cell_type": "code",
   "execution_count": null,
   "metadata": {},
   "outputs": [],
   "source": [
    "calc_bulk_density(###6.789, 12.345)"
   ]
  },
  {
   "cell_type": "code",
   "execution_count": null,
   "metadata": {},
   "outputs": [],
   "source": [
    "calc_bulk_density(6.789, ###12.345)"
   ]
  },
  {
   "cell_type": "code",
   "execution_count": null,
   "metadata": {},
   "outputs": [],
   "source": [
    "calc_bulk_density(###6.789, ###12.345)"
   ]
  },
  {
   "cell_type": "code",
   "execution_count": null,
   "metadata": {},
   "outputs": [],
   "source": [
    "calc_bulk_density(67###89, 12.345)"
   ]
  },
  {
   "cell_type": "markdown",
   "metadata": {},
   "source": [
    "### Exercise - Clean Up This Code\n",
    "\n",
    "1. Read this short program and try to predict what it does.\n",
    "1. Run it: how accurate was your prediction?\n",
    "1. Refactor the program to make it more readable. Remember to run it after each change to ensure its behavior hasn’t changed.\n",
    "1. Compare your rewrite with your neighbor’s. What did you do the same? What did you do differently, and why?"
   ]
  },
  {
   "cell_type": "code",
   "execution_count": null,
   "metadata": {},
   "outputs": [],
   "source": [
    "n = 10\n",
    "s = 'et cetera'\n",
    "print(s)\n",
    "i = 0\n",
    "while i < n:\n",
    "    # print('at', j)\n",
    "    new = ''\n",
    "    for j in range(len(s)):\n",
    "        left = j-1\n",
    "        right = (j+1)%len(s)\n",
    "        if s[left]==s[right]: new += '-'\n",
    "        else: new += '*'\n",
    "    s=''.join(new)\n",
    "    print(s)\n",
    "    i += 1"
   ]
  },
  {
   "cell_type": "code",
   "execution_count": null,
   "metadata": {},
   "outputs": [],
   "source": []
  }
 ],
 "metadata": {
  "anaconda-cloud": {},
  "kernelspec": {
   "display_name": "Python 3",
   "language": "python",
   "name": "python3"
  },
  "language_info": {
   "codemirror_mode": {
    "name": "ipython",
    "version": 3
   },
   "file_extension": ".py",
   "mimetype": "text/x-python",
   "name": "python",
   "nbconvert_exporter": "python",
   "pygments_lexer": "ipython3",
   "version": "3.6.5"
  }
 },
 "nbformat": 4,
 "nbformat_minor": 1
}
